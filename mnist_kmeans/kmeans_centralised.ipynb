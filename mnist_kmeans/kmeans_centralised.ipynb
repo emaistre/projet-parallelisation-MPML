{
 "cells": [
  {
   "cell_type": "code",
   "execution_count": null,
   "id": "a2cf1036",
   "metadata": {
    "ExecuteTime": {
     "end_time": "2023-12-19T17:55:43.524405Z",
     "start_time": "2023-12-19T17:55:42.973107Z"
    }
   },
   "outputs": [],
   "source": [
    "import numpy as np\n",
    "import random as rd\n",
    "import time\n",
    "import matplotlib.pyplot as plt"
   ]
  },
  {
   "cell_type": "code",
   "execution_count": null,
   "id": "c3104b96",
   "metadata": {
    "ExecuteTime": {
     "end_time": "2023-12-19T17:55:43.892016Z",
     "start_time": "2023-12-19T17:55:43.885265Z"
    }
   },
   "outputs": [],
   "source": [
    "'''\n",
    "Receives a String filename with name of the csv file of the dataset.\n",
    "\n",
    "Returns: a numpy array with the loaded data\n",
    "'''\n",
    "def serialReadFile(filename):\n",
    "\n",
    "    # Read the CSV file into a numpy array (we skip the first row that is the labels of columns)\n",
    "    data = np.loadtxt(filename, delimiter=',', skiprows=1)\n",
    "    \n",
    "    # We exclude the first colomn that is the predicted output label\n",
    "    return data[:, 1:]"
   ]
  },
  {
   "cell_type": "code",
   "execution_count": null,
   "id": "d739bebb",
   "metadata": {
    "ExecuteTime": {
     "end_time": "2023-12-19T17:55:47.255774Z",
     "start_time": "2023-12-19T17:55:47.245868Z"
    }
   },
   "outputs": [],
   "source": [
    "'''\n",
    "Receives a list of d-dimensional tuples called centroids, representing the current state\n",
    "of the centroids, and a d-dimensional tuple x which represents the datum to be assigned to a cluster.\n",
    "\n",
    "Returns: an integer with the index in centroids of the closest centroid to x\n",
    "'''\n",
    "def serialAssign2cluster(x, centroids):\n",
    "    \n",
    "    # Initialisation of the distances from x to the centroids\n",
    "    distances = [0 for i in range(len(centroids))]\n",
    "    \n",
    "    # For each centroid, we compute the euclidian distance to x\n",
    "    for c in range(len(centroids)):\n",
    "        for i in range(784):\n",
    "            distances[c] += (x[i] - centroids[c][i]) ** 2\n",
    "        distances[c] = np.sqrt(distances[c])\n",
    "        #distances[c] **= 0.5\n",
    "    \n",
    "    # We look for the smallest distance which corresponds to the nearest centroid\n",
    "    dmin = distances[0]\n",
    "    for d in distances[1:]:\n",
    "        if d < dmin:\n",
    "            dmin = d\n",
    "            \n",
    "    return distances.index(dmin)"
   ]
  },
  {
   "cell_type": "code",
   "execution_count": null,
   "id": "b344e28f",
   "metadata": {
    "ExecuteTime": {
     "end_time": "2023-12-19T17:55:50.563124Z",
     "start_time": "2023-12-19T17:55:50.554801Z"
    }
   },
   "outputs": [],
   "source": [
    "'''\n",
    "Performs the serialized K-Means algorithm on the dataset X, grouping the instances into K different\n",
    "clusters. The number of iterations of the method to be executed is n_iter. The initialization of the centroids will be\n",
    "random, sampled from a standard normal distribution. It returns a list of length K with the d-dimensional centroids\n",
    "computed\n",
    "'''\n",
    "# Following the implementation described in the slides        \n",
    "def serialKMeans(X, K, n_iter):\n",
    "    # Generate K random tuples with 28000 elements each (len of each x)\n",
    "    centroids = [tuple(np.random.randn(784)) for i in range(K)]\n",
    "    \n",
    "    for it in range(n_iter):\n",
    "        \n",
    "        print(\"it : \", it)\n",
    "        \n",
    "        # Initialize the \"clusters\" of clusters\n",
    "        clusters = [[] for i in range(K)]\n",
    "        \n",
    "        # Assign each sample to a cluster\n",
    "        for x in X:\n",
    "            x = tuple(x) # According to specs, serialAssign2cluster needs x as a d-dimensional tuple\n",
    "            closest_c = serialAssign2cluster(x, centroids)\n",
    "            clusters[closest_c].append(x)\n",
    "        \n",
    "        # Compute the new centroids\n",
    "        # Initialise to 0\n",
    "        centroids = [list(0 for i in range(784)) for i in range(K)]\n",
    "        \n",
    "        # Add each value of each sample in the same cluster\n",
    "        for j in range(K):\n",
    "            for x in clusters[j]:\n",
    "                for k in range(784):\n",
    "                    centroids[j][k] += x[k]\n",
    "                    \n",
    "        # Divide each value of each centroid by the number of sample in the cluster\n",
    "        for j in range(K):\n",
    "            for k in range(784):\n",
    "                centroids[j][k] /= len(clusters[j])\n",
    "        \n",
    "        # Convert centroids from lists (mutable) to tuples (immutable)\n",
    "        for i in range(K):\n",
    "            centroids[i] = tuple(centroids[i])\n",
    "        \n",
    "        # Plot\n",
    "        i=1\n",
    "        plt.figure(figsize = (20,5))\n",
    "        for c in centroids:\n",
    "            ax = plt.subplot(1, K, i)\n",
    "            c = np.asarray(c)\n",
    "            plt.imshow(c.reshape(28,28),cmap='gray')\n",
    "            ax.set_axis_off() \n",
    "            i+=1\n",
    "        plt.show()\n",
    "                \n",
    "    return centroids"
   ]
  },
  {
   "cell_type": "code",
   "execution_count": null,
   "id": "e3b5032d",
   "metadata": {
    "ExecuteTime": {
     "end_time": "2023-11-28T16:57:37.338033Z",
     "start_time": "2023-11-28T16:57:37.332974Z"
    }
   },
   "outputs": [],
   "source": [
    "'''\n",
    "Performs the serialized K-Means algorithm on the dataset X, grouping the instances into K different\n",
    "clusters. The number of iterations of the method to be executed is n_iter. The initialization of the centroids will be\n",
    "random, sampled from a standard normal distribution. It returns a list of length K with the d-dimensional centroids\n",
    "computed\n",
    "'''\n",
    "# Modifications made by ourselves, difference is that we put the indexes\n",
    "# rather than samples in clusters so it's faster\n",
    "\n",
    "def MyserialKMeans(X, K, n_iter):\n",
    "    # Generate K random tuples with 28000 elements each (len of each x)\n",
    "    centroids = [tuple(np.random.randn(784)) for i in range(K)]\n",
    "    \n",
    "    for it in range(n_iter):\n",
    "        print(\"it : \", it)\n",
    "        \n",
    "        # Initialize the clusters\n",
    "        clusters = [[] for i in range(K)]\n",
    "        \n",
    "        # Initialize sample number to add to clusters\n",
    "        sample_nbr = 0\n",
    "        \n",
    "        # Assign each sample to a cluster\n",
    "        for x in X:\n",
    "            x = tuple(x) # According to specs, serialAssign2cluster needs x as a d-dimensional tuple\n",
    "            closest_c = serialAssign2cluster(x, centroids)\n",
    "            x = list(x)\n",
    "            clusters[closest_c].append(sample_nbr)\n",
    "            sample_nbr += 1\n",
    "        \n",
    "        # Compute the new centroids\n",
    "        \n",
    "        # Initialise to 0\n",
    "        centroids = [list(0 for i in range(784)) for i in range(K)]\n",
    "        \n",
    "        # Add each value of each sample in the same cluster\n",
    "        for i in range(K):\n",
    "            for j in range(len(clusters[i])):\n",
    "                for k in range(784):\n",
    "                    centroids[i][k] += X[clusters[i][j]][k]\n",
    "        \n",
    "        # Divide each value of each centroid by the number of sample in the cluster\n",
    "        for i in range(K):\n",
    "            for k in range(784):\n",
    "                centroids[i][k] /= len(clusters[i])\n",
    "                \n",
    "        # Convert centroids from lists (mutable) to tuples (immutable)\n",
    "        for i in range(K):\n",
    "            centroids[i] = tuple(centroids[i])\n",
    "                \n",
    "    return centroids"
   ]
  },
  {
   "cell_type": "code",
   "execution_count": null,
   "id": "7cb7f356",
   "metadata": {
    "ExecuteTime": {
     "end_time": "2023-12-19T18:59:40.162797Z",
     "start_time": "2023-12-19T18:32:52.571780Z"
    }
   },
   "outputs": [],
   "source": [
    "filename = \"tot_mnist_shuf.csv\"\n",
    "K = 10\n",
    "start_time = time.time()\n",
    "\n",
    "data = serialReadFile(filename)\n",
    "centroids = serialKMeans(data, K, 10)\n",
    "\n",
    "end_time = time.time()\n",
    "print(\"Execution time: \", end_time - start_time)"
   ]
  },
  {
   "cell_type": "code",
   "execution_count": null,
   "id": "dbc4212e",
   "metadata": {
    "ExecuteTime": {
     "end_time": "2023-12-19T16:01:21.951299Z",
     "start_time": "2023-12-19T16:01:21.851489Z"
    }
   },
   "outputs": [],
   "source": [
    "sample = 2\n",
    "image = data[sample]\n",
    "fig = plt.figure\n",
    "plt.imshow(image.reshape(28,28),cmap='gray')"
   ]
  }
 ],
 "metadata": {
  "kernelspec": {
   "display_name": "Python 3 (ipykernel)",
   "language": "python",
   "name": "python3"
  },
  "language_info": {
   "codemirror_mode": {
    "name": "ipython",
    "version": 3
   },
   "file_extension": ".py",
   "mimetype": "text/x-python",
   "name": "python",
   "nbconvert_exporter": "python",
   "pygments_lexer": "ipython3",
   "version": "3.7.16"
  },
  "toc": {
   "base_numbering": 1,
   "nav_menu": {},
   "number_sections": true,
   "sideBar": true,
   "skip_h1_title": false,
   "title_cell": "Table of Contents",
   "title_sidebar": "Contents",
   "toc_cell": false,
   "toc_position": {},
   "toc_section_display": true,
   "toc_window_display": false
  }
 },
 "nbformat": 4,
 "nbformat_minor": 5
}
